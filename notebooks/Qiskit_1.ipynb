{
 "cells": [
  {
   "cell_type": "markdown",
   "metadata": {},
   "source": [
    "# Qiskit 1 - Hadamard measurement\n",
    "\n",
    "1. Theoretical overview\n",
    "2. Define a quantum circuit\n",
    "3. Obtain a circuit diagram\n",
    "4. Execute circuit on local resource\n",
    "5. Obtain results and visualize\n",
    "6. Execute circuit in the cloud\n",
    "7. Obtain results and visualize"
   ]
  },
  {
   "cell_type": "markdown",
   "metadata": {},
   "source": [
    "## 1 - Theoretical overview\n",
    "\n",
    "The quantum state **S** is represented by either a 0 or 1 complex vector:\n",
    "\n",
    "$$S_0 = \\begin{pmatrix}1\\\\0\\end{pmatrix}, S_1 = \\begin{pmatrix}0\\\\1\\end{pmatrix}$$\n",
    "\n",
    "\n",
    "The system dynamics comes from the Hadamard operator **H** represented by the unitary matrix:\n",
    "\n",
    "$$H = \\frac{1}{\\sqrt2}\\begin{pmatrix} 1 & 1\\\\1 & -1\\end{pmatrix}$$\n",
    "\n",
    "We aim to operate on the state vector **S** with the Hadamard matrix **H**, this will generate a new state vector **T** which will be in a superposition of the the state vector **S** basis vectors as per the following proportions:\n",
    "\n",
    "$$ T_0 = H S_0 = \\frac{1}{\\sqrt2}\\begin{pmatrix} 1 & 1\\\\1 & -1\\end{pmatrix} \\begin{pmatrix}1\\\\0\\end{pmatrix} = \\begin{pmatrix}\\frac{2}{\\sqrt2}\\\\\\frac{2}{\\sqrt2}\\end{pmatrix}$$\n",
    "\n",
    "$$ T_1 = H S_1 = \\frac{1}{\\sqrt2}\\begin{pmatrix} 1 & 1\\\\1 & -1\\end{pmatrix} \\begin{pmatrix}1\\\\0\\end{pmatrix} = \\begin{pmatrix}\\frac{2}{\\sqrt2}\\\\-\\frac{2}{\\sqrt2}\\end{pmatrix}$$\n",
    "\n",
    "\n",
    "When we then introduce the system to measurement, the superposition will collapse to a single position in accordance with the state vectors wavefunction probability amplitudes. Concretely in our case we will find the system in a state of 0 half of the times and in a state of 1 half of the times:\n",
    "\n",
    "$$P(0) = T_0^2 = \\begin{pmatrix}\\frac{2}{\\sqrt2}^2\\\\\\frac{2}{\\sqrt2}^2\\end{pmatrix} = \\begin{pmatrix}\\frac{1}{2}\\\\\\frac{1}{2}\\end{pmatrix} = \\begin{pmatrix}\\frac{2}{\\sqrt2}^2\\\\-\\frac{2}{\\sqrt2}^2\\end{pmatrix} = T_1^2 = P(1)$$"
   ]
  },
  {
   "cell_type": "markdown",
   "metadata": {},
   "source": [
    "## 2 - Define a quantum circuit"
   ]
  },
  {
   "cell_type": "code",
   "execution_count": 38,
   "metadata": {},
   "outputs": [
    {
     "data": {
      "text/plain": [
       "<qiskit.circuit.instructionset.InstructionSet at 0x7f9212e2ff60>"
      ]
     },
     "execution_count": 38,
     "metadata": {},
     "output_type": "execute_result"
    }
   ],
   "source": [
    "from qiskit import QuantumRegister, ClassicalRegister, QuantumCircuit\n",
    "\n",
    "# Our statevector represented by the quantumregister S\n",
    "S = QuantumRegister(2)\n",
    "\n",
    "# A classical register for the result which consist of one bit 0 or 1\n",
    "res = ClassicalRegister(2)\n",
    "\n",
    "# A QuantumCircuit object takes in the registers to operate on, now we must define \n",
    "# which operations and in which order. We add them to the QuantumCircuit object as methods.\n",
    "cir = QuantumCircuit(S, res)\n",
    "\n",
    "# Add a hadamard operator to the QuantumCircuit\n",
    "cir.h(S)\n",
    "\n",
    "# Add a measurement\n",
    "cir.measure(S, res)"
   ]
  },
  {
   "cell_type": "markdown",
   "metadata": {},
   "source": [
    "## 3 - Obtain a circuit diagram"
   ]
  },
  {
   "cell_type": "code",
   "execution_count": 15,
   "metadata": {},
   "outputs": [
    {
     "name": "stdout",
     "output_type": "stream",
     "text": [
      "OPENQASM 2.0;\n",
      "include \"qelib1.inc\";\n",
      "qreg q1[2];\n",
      "creg c1[2];\n",
      "h q1[0];\n",
      "h q1[1];\n",
      "measure q1[0] -> c1[0];\n",
      "measure q1[1] -> c1[1];\n",
      "\n"
     ]
    }
   ],
   "source": [
    "print(cir.qasm())"
   ]
  },
  {
   "cell_type": "code",
   "execution_count": 39,
   "metadata": {},
   "outputs": [
    {
     "name": "stdout",
     "output_type": "stream",
     "text": [
      "         ┌───┐┌─┐   \n",
      "q3_0: |0>┤ H ├┤M├───\n",
      "         ├───┤└╥┘┌─┐\n",
      "q3_1: |0>┤ H ├─╫─┤M├\n",
      "         └───┘ ║ └╥┘\n",
      " c3_0: 0 ══════╩══╬═\n",
      "                  ║ \n",
      " c3_1: 0 ═════════╩═\n",
      "                    \n"
     ]
    }
   ],
   "source": [
    "print(cir)"
   ]
  },
  {
   "cell_type": "code",
   "execution_count": 40,
   "metadata": {},
   "outputs": [
    {
     "data": {
      "text/html": [
       "<pre style=\"word-wrap: normal;white-space: pre;background: #fff0;line-height: 1.1;font-family: &quot;Courier New&quot;,Courier,monospace\">         ┌───┐┌─┐   \n",
       "q3_0: |0>┤ H ├┤M├───\n",
       "         ├───┤└╥┘┌─┐\n",
       "q3_1: |0>┤ H ├─╫─┤M├\n",
       "         └───┘ ║ └╥┘\n",
       " c3_0: 0 ══════╩══╬═\n",
       "                  ║ \n",
       " c3_1: 0 ═════════╩═\n",
       "                    </pre>"
      ],
      "text/plain": [
       "<qiskit.visualization.text.TextDrawing at 0x7f9212e2fef0>"
      ]
     },
     "execution_count": 40,
     "metadata": {},
     "output_type": "execute_result"
    }
   ],
   "source": [
    "from qiskit.tools.visualization import circuit_drawer\n",
    "circuit_drawer(cir)"
   ]
  },
  {
   "cell_type": "markdown",
   "metadata": {},
   "source": [
    "## 4 - Execute circuit on local resource"
   ]
  },
  {
   "cell_type": "code",
   "execution_count": 41,
   "metadata": {},
   "outputs": [],
   "source": [
    "from qiskit import Aer, execute\n",
    "# Define the simulator on which the job will run on\n",
    "sim = Aer.get_backend('qasm_simulator')\n",
    "\n",
    "# Define a job as the execution of the Quantum circuit on the simulator chosen\n",
    "job = execute(cir, sim)"
   ]
  },
  {
   "cell_type": "markdown",
   "metadata": {},
   "source": [
    "## 5 - Obtain results and visualize"
   ]
  },
  {
   "cell_type": "code",
   "execution_count": 42,
   "metadata": {},
   "outputs": [
    {
     "name": "stdout",
     "output_type": "stream",
     "text": [
      "{'11': 270, '00': 242, '01': 257, '10': 255}\n"
     ]
    }
   ],
   "source": [
    "# Instantiate the result class on the job\n",
    "result = job.result()\n",
    "\n",
    "# Get statistics from the execution of the curcuit. These are the outcome measurements\n",
    "# from 1 000 trials.\n",
    "count = result.get_counts(cir)\n",
    "print(count)"
   ]
  },
  {
   "cell_type": "code",
   "execution_count": 43,
   "metadata": {},
   "outputs": [
    {
     "data": {
      "image/png": "[encoded data removed]",
      "text/plain": [
       "<Figure size 504x360 with 1 Axes>"
      ]
     },
     "execution_count": 43,
     "metadata": {},
     "output_type": "execute_result"
    }
   ],
   "source": [
    "from qiskit.tools.visualization import plot_histogram, iplot_histogram\n",
    "\n",
    "plot_histogram(count)"
   ]
  }
 ],
 "metadata": {
  "kernelspec": {
   "display_name": "Python 3",
   "language": "python",
   "name": "python3"
  },
  "language_info": {
   "codemirror_mode": {
    "name": "ipython",
    "version": 3
   },
   "file_extension": ".py",
   "mimetype": "text/x-python",
   "name": "python",
   "nbconvert_exporter": "python",
   "pygments_lexer": "ipython3",
   "version": "3.6.9"
  }
 },
 "nbformat": 4,
 "nbformat_minor": 2
}
