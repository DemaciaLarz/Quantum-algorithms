{
 "cells": [
  {
   "cell_type": "markdown",
   "metadata": {},
   "source": [
    "# Qiskit 7 - Shores algorithm\n",
    "\n",
    "#### Table of content\n",
    "\n",
    "1. Introduction\n",
    "2. Choose N\n",
    "3. Get a\n",
    "4. Phase estimation\n",
    "5. QFT - Quantum Fourier Transform\n",
    "6. Unitary Operator\n",
    "7. Simulation \n",
    "8. IBMQ "
   ]
  },
  {
   "cell_type": "code",
   "execution_count": 109,
   "metadata": {},
   "outputs": [],
   "source": [
    "import numpy as np\n",
    "from math import gcd\n",
    "\n",
    "from qiskit import QuantumRegister, ClassicalRegister, QuantumCircuit, Aer, execute, IBMQ\n",
    "from qiskit.tools.visualization import circuit_drawer, plot_histogram"
   ]
  },
  {
   "cell_type": "markdown",
   "metadata": {},
   "source": [
    "## 1 - Introduction\n",
    "\n",
    "#### Problem\n",
    "\n",
    "The problem of factoring integers can be expressed in such way, that based on some integer $N$, one want to find the integers $N_1$ and $N_2$, such that: $N_1N_2 = N$, meanwhile: $1 < N_1, N_2 < N$ \n",
    "\n",
    "Shores algorithm approaches this problem by reducing it into finding the period of a certain function. \n",
    "\n",
    "#### Algorithm\n",
    "\n",
    "***step 1*** Pick an integer $N$ and use a classical algorithm to determine if it is prime or a power of prime. If so, exit.\n",
    "\n",
    "***step 2*** Randomly choose an integer $a$ such that $1 < a < N$. Perform Euclid's algorithm to determine if the $GCD(a, N)$ is 1. If not, exit.\n",
    "\n",
    "***step 3*** Use the quantum circuit represented by the unitary operator ${U}_{fa, N}$ to find a period $r$.\n",
    "\n",
    "***step 4*** If $a$ is odd, or if $a^{\\frac{r}{2}} \\equiv -1$ Mod $N$, then return to step 2 and choose another $a$.\n",
    "\n",
    "***step 5*** Use Euclid's algorithm to calculate $GCD((a^{\\frac{r}{2}} + 1), N)$ and $GCD((a^{\\frac{r}{2}} - 1), N)$. Return at least one of the nontrivial solutions."
   ]
  },
  {
   "cell_type": "markdown",
   "metadata": {},
   "source": [
    "## 2 - Choose N\n",
    "\n",
    "So we will work with a non-prime, non power of prime positive integer such that it is manageable on a handful couple of qubits. Allow me to put together the following list of candidates:\n",
    "\n",
    "* List of possible integers = [4, 6, 8, 10, 12, 14, 15, 18]"
   ]
  },
  {
   "cell_type": "code",
   "execution_count": 86,
   "metadata": {},
   "outputs": [
    {
     "name": "stdout",
     "output_type": "stream",
     "text": [
      "N = 4\n",
      "N bit = 100\n"
     ]
    }
   ],
   "source": [
    "N = 4\n",
    "N_bit = format(N, 'b')\n",
    "print('N =', N)\n",
    "print('N bit =', N_bit)"
   ]
  },
  {
   "cell_type": "markdown",
   "metadata": {},
   "source": [
    "## 3 - Get a\n",
    "\n",
    "If $GCD(a,N) = 1$ a is a co-prime of N and that is what we can use in following steps. Hence we ought to pull random $a$ and check its common factors against N, if it is a 1 we keep it. "
   ]
  },
  {
   "cell_type": "code",
   "execution_count": 87,
   "metadata": {},
   "outputs": [
    {
     "name": "stdout",
     "output_type": "stream",
     "text": [
      "gcd is 1 for a: 3\n"
     ]
    }
   ],
   "source": [
    "for i in range(N):\n",
    "    a = np.random.randint(2, N)\n",
    "    GCD = gcd(a, N)\n",
    "    if GCD is 1:\n",
    "        print('gcd is 1 for a:', a)\n",
    "        break"
   ]
  },
  {
   "cell_type": "markdown",
   "metadata": {},
   "source": [
    "## 4 - Phase estimation\n",
    "\n",
    "\n",
    "#### The modular function\n",
    "First up is to find the powers of $a$ $Mod$ $N$, that is:\n",
    " \n",
    "$$a^0 Mod N, a^1 Mod N, a^3 Mod N, ...$$\n",
    "\n",
    "In other words we are to find the values $x$ of the function:\n",
    "\n",
    "$$f_{a,N}(x) = a^x Mod N$$\n",
    "\n",
    "However we are rather interested in the period $r$ of this function such that:\n",
    "\n",
    "$$f_{a,N}(r) = a^r Mod N$$\n",
    "\n",
    "It is known from a number theory theorem that for any co-prime $a \\leq N$, the function $f_{a,N}(r)$ will output a 1 for some $r \\leq N$. After it hits 1, the sequence of numbers will simply repeat itself. *(isn't this a mechanism we could use for reformulated optimization problems?).*\n",
    "\n",
    "\n",
    "#### State dynamics\n",
    "Next step is to implement the function $f_{a,N}$ on a quantum circuit, in order to do that we are to proceed according to the following procedure:\n",
    "\n",
    "**1:** Define 2 quantunRegisters. The first one $|x\\rangle_m$ and the second one $|y\\rangle_n$. Where $m$ = the binary length needed to hold N, and where $n$ = the binary length needed to hold the periodic base of N.\n",
    "\n",
    "$$|\\varphi_0 \\rangle = |x_m, y_n \\rangle$$\n",
    "\n",
    "**2:** Place the $|x \\rangle_m$ qubits in an equally weighted superposition:\n",
    "\n",
    "$$|\\varphi_1 \\rangle = \\frac{\\sum_{x\\epsilon[0, 1]^m}|x, y_n\\rangle}{\\sqrt{2^m}}$$\n",
    "\n",
    "**3:** Evaluate the function $f_{a,N}(x)$ for all the superpositioned possibilities:\n",
    "\n",
    "$$|\\varphi_2 \\rangle = \\frac{\\sum_{x\\epsilon[0, 1]^m}|x, f_{a,N}(x)\\rangle}{\\sqrt{2^m}} = \\frac{\\sum_{x\\epsilon[0, 1]^m}|x, a^x Mod N\\rangle}{\\sqrt{2^m}}$$\n",
    "\n",
    "**4:** By measuring the bottom qubits $|y\\rangle_n$ we obtain an estimate $a^{\\overline{x}}Mod N$ for some $\\overline{x}$. By the periodicity of $f_{a,N}$ we also have that:\n",
    "\n",
    "$$a^{\\overline{x}} \\equiv a^{\\overline{x}+r}ModN$$\n",
    "and,\n",
    "$$a^{\\overline{x}} \\equiv a^{\\overline{x}+2r}ModN$$\n",
    "such that for any $s$ $\\epsilon$ $\\mathbb Z$ we have:\n",
    "$$a^{\\overline{x}} \\equiv a^{\\overline{x}+sr}ModN$$\n",
    "\n",
    "Furthermore we have that out of the $2^m$ superpositions in $|x\\rangle$ in state $|\\varphi_2\\rangle$, there are $\\frac{2^m}{r}$ of them that has the solution $\\overline{x}$. This finally gives us:\n",
    "\n",
    "$$|\\varphi_3 = \\frac{\\sum_{a \\equiv a^{\\overline{x}}ModN}|x,a^{\\overline{x}}\\rangle}{\\frac{2^m}{r}} = \\frac{\\sum^{\\frac{2^m}{r-1}}_{j=0}|t_0 + jr, a^{\\overline{x}ModN}\\rangle}{\\frac{2^m}{r}}$$\n",
    "\n",
    "Where $t_0$ is the first time the measured the value of $a^{t_0} \\equiv a^{\\overline{x}}ModN$\n",
    "\n",
    "To boil this down, we want to estimate $\\overline{x}$ since that gives us a value to plug into the function $f_{a,N}$ which gives us the period base we are looking for. Hence this stage starts with preparing the states and end with taking the measurements of $|y\\rangle$ such that a satisfying value can be detected. *(Do we use that value and re instantiate the x qubits? Or is the superpoitioned x state to be 'automatically manipulated' by our measurements of y such that it simply takes on our preferred value?)*\n",
    "\n",
    "\n",
    "#### Quantum circuit\n",
    "So how do we construct the black box unitary? Allow us to establish a relationship between the period of the function $f_{a,N}$ and the phase value of the eigenvalue. \n",
    "this way solving the phase helps us find the period. \n",
    "\n",
    "Phase estimation can described such that if we know $U$ and $|\\psi\\rangle$, we can estimate $\\phi$:\n",
    "\n",
    "$$U|\\psi\\rangle = e^{2\\pi i\\phi}|\\psi\\rangle$$\n",
    "\n",
    "Proceeding with the following specifications:\n",
    "$$N = 4 = 100_{bin}$$\n",
    "$$a = 3$$\n",
    "$$n = 3$$\n",
    "$$r = 2 = 01_{bin}$$\n",
    "$$freq = (1, 3)$$\n",
    "$$m = 6$$"
   ]
  },
  {
   "cell_type": "markdown",
   "metadata": {},
   "source": [
    "### Define registers"
   ]
  },
  {
   "cell_type": "code",
   "execution_count": 95,
   "metadata": {},
   "outputs": [],
   "source": [
    "x = QuantumRegister(6, 'x')\n",
    "y = QuantumRegister(3, 'y')\n",
    "c1 = ClassicalRegister(3, 'c1')\n",
    "c2 = ClassicalRegister(6, 'c2')"
   ]
  },
  {
   "cell_type": "markdown",
   "metadata": {},
   "source": [
    "### QFT - Quantum Fourier Transform"
   ]
  },
  {
   "cell_type": "code",
   "execution_count": 121,
   "metadata": {},
   "outputs": [
    {
     "data": {
      "image/png": "[encoded data removed]",
      "text/plain": [
       "<Figure size 999.32x686.28 with 1 Axes>"
      ]
     },
     "execution_count": 121,
     "metadata": {},
     "output_type": "execute_result"
    }
   ],
   "source": [
    "q1 = QuantumCircuit(x, y, c1, c2)\n",
    "q1.barrier()\n",
    "q1.h(x[0])\n",
    "q1.crz(180, x[0], x[1])\n",
    "q1.h(x[1])\n",
    "q1.crz(90, x[0], x[2])\n",
    "q1.crz(180, x[1], x[2])\n",
    "q1.h(x[2])\n",
    "q1.barrier()\n",
    "q1.crz(45, x[0], x[3])\n",
    "q1.crz(90, x[1], x[3])\n",
    "q1.crz(180, x[2], x[3])\n",
    "q1.h(x[3])\n",
    "q1.barrier()\n",
    "q1.measure([x[0], x[1], x[2], x[3]], [c2[0], c2[1], c2[2], c2[3]])\n",
    "circuit_drawer(q1, output='mpl', plot_barriers=False)"
   ]
  },
  {
   "cell_type": "code",
   "execution_count": 125,
   "metadata": {},
   "outputs": [
    {
     "data": {
      "image/png": "[encoded data removed]",
      "text/plain": [
       "<Figure size 504x360 with 1 Axes>"
      ]
     },
     "execution_count": 125,
     "metadata": {},
     "output_type": "execute_result"
    }
   ],
   "source": [
    "sim = Aer.get_backend('qasm_simulator')\n",
    "count = execute(q1, sim).result().get_counts()\n",
    "plot_histogram(count)"
   ]
  },
  {
   "cell_type": "markdown",
   "metadata": {},
   "source": [
    "#### To be continued..."
   ]
  },
  {
   "cell_type": "code",
   "execution_count": null,
   "metadata": {},
   "outputs": [],
   "source": []
  }
 ],
 "metadata": {
  "kernelspec": {
   "display_name": "Python 3",
   "language": "python",
   "name": "python3"
  },
  "language_info": {
   "codemirror_mode": {
    "name": "ipython",
    "version": 3
   },
   "file_extension": ".py",
   "mimetype": "text/x-python",
   "name": "python",
   "nbconvert_exporter": "python",
   "pygments_lexer": "ipython3",
   "version": "3.6.9"
  }
 },
 "nbformat": 4,
 "nbformat_minor": 2
}
