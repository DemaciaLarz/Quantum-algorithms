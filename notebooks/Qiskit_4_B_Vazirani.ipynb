{
 "cells": [
  {
   "cell_type": "code",
   "execution_count": 78,
   "metadata": {},
   "outputs": [],
   "source": [
    "from qiskit import QuantumRegister, ClassicalRegister, QuantumCircuit\n",
    "from qiskit import Aer, execute\n",
    "\n",
    "from qiskit.tools.visualization import circuit_drawer, plot_histogram\n",
    "\n",
    "q = QuantumRegister(4, 'q') \n",
    "tmp = QuantumRegister(1, 'tmp')\n",
    "res = ClassicalRegister(4, 'res')"
   ]
  },
  {
   "cell_type": "code",
   "execution_count": 79,
   "metadata": {},
   "outputs": [
    {
     "data": {
      "text/html": [
       "<pre style=\"word-wrap: normal;white-space: pre;background: #fff0;line-height: 1.1;font-family: &quot;Courier New&quot;,Courier,monospace\">                         \n",
       "  q_0: |0>───────────────\n",
       "                         \n",
       "  q_1: |0>──■────────────\n",
       "            │            \n",
       "  q_2: |0>──┼────■───────\n",
       "            │    │       \n",
       "  q_3: |0>──┼────┼────■──\n",
       "          ┌─┴─┐┌─┴─┐┌─┴─┐\n",
       "tmp_0: |0>┤ X ├┤ X ├┤ X ├\n",
       "          └───┘└───┘└───┘\n",
       " res_0: 0 ═══════════════\n",
       "                         \n",
       " res_1: 0 ═══════════════\n",
       "                         \n",
       " res_2: 0 ═══════════════\n",
       "                         \n",
       " res_3: 0 ═══════════════\n",
       "                         </pre>"
      ],
      "text/plain": [
       "<qiskit.visualization.text.TextDrawing at 0x7fbfefa0ba90>"
      ]
     },
     "execution_count": 79,
     "metadata": {},
     "output_type": "execute_result"
    }
   ],
   "source": [
    "secret = 14 # 1110\n",
    "oracle = QuantumCircuit(q, tmp, res)\n",
    "for i in range(len(q)):\n",
    "    if (secret & (1 << i)):\n",
    "        oracle.cx(q[i], tmp[0])\n",
    "circuit_drawer(oracle)"
   ]
  },
  {
   "cell_type": "code",
   "execution_count": 80,
   "metadata": {},
   "outputs": [
    {
     "data": {
      "text/html": [
       "<pre style=\"word-wrap: normal;white-space: pre;background: #fff0;line-height: 1.1;font-family: &quot;Courier New&quot;,Courier,monospace\">            ░  ┌───┐ ░                 ░ \n",
       "  q_0: |0>──░──┤ H ├─░─────────────────░─\n",
       "            ░  ├───┤ ░                 ░ \n",
       "  q_1: |0>──░──┤ H ├─░───■─────────────░─\n",
       "            ░  ├───┤ ░   │             ░ \n",
       "  q_2: |0>──░──┤ H ├─░───┼────■────────░─\n",
       "            ░  ├───┤ ░   │    │        ░ \n",
       "  q_3: |0>──░──┤ H ├─░───┼────┼────■───░─\n",
       "          ┌───┐├───┤ ░ ┌─┴─┐┌─┴─┐┌─┴─┐ ░ \n",
       "tmp_0: |0>┤ X ├┤ H ├─░─┤ X ├┤ X ├┤ X ├─░─\n",
       "          └───┘└───┘ ░ └───┘└───┘└───┘ ░ \n",
       " res_0: 0 ═══════════════════════════════\n",
       "                                         \n",
       " res_1: 0 ═══════════════════════════════\n",
       "                                         \n",
       " res_2: 0 ═══════════════════════════════\n",
       "                                         \n",
       " res_3: 0 ═══════════════════════════════\n",
       "                                         </pre>"
      ],
      "text/plain": [
       "<qiskit.visualization.text.TextDrawing at 0x7fbffa45f1d0>"
      ]
     },
     "execution_count": 80,
     "metadata": {},
     "output_type": "execute_result"
    }
   ],
   "source": [
    "bv = QuantumCircuit(q, tmp, res)\n",
    "bv.x(tmp) # flip the tmp qubit\n",
    "bv.barrier(q) # for a nicer diagram\n",
    "bv.h(q) # add a full layer of hadamard gates to the q qubits\n",
    "bv.h(tmp) # and add a hadamard to tmp\n",
    "bv.barrier() \n",
    "bv += oracle # add the oracle to the bv curcuit\n",
    "bv.barrier()\n",
    "circuit_drawer(bv)"
   ]
  },
  {
   "cell_type": "code",
   "execution_count": 81,
   "metadata": {},
   "outputs": [
    {
     "data": {
      "text/html": [
       "<pre style=\"word-wrap: normal;white-space: pre;background: #fff0;line-height: 1.1;font-family: &quot;Courier New&quot;,Courier,monospace\">            ░  ┌───┐ ░                 ░ ┌───┐┌─┐         \n",
       "  q_0: |0>──░──┤ H ├─░─────────────────░─┤ H ├┤M├─────────\n",
       "            ░  ├───┤ ░                 ░ ├───┤└╥┘┌─┐      \n",
       "  q_1: |0>──░──┤ H ├─░───■─────────────░─┤ H ├─╫─┤M├──────\n",
       "            ░  ├───┤ ░   │             ░ ├───┤ ║ └╥┘┌─┐   \n",
       "  q_2: |0>──░──┤ H ├─░───┼────■────────░─┤ H ├─╫──╫─┤M├───\n",
       "            ░  ├───┤ ░   │    │        ░ ├───┤ ║  ║ └╥┘┌─┐\n",
       "  q_3: |0>──░──┤ H ├─░───┼────┼────■───░─┤ H ├─╫──╫──╫─┤M├\n",
       "          ┌───┐├───┤ ░ ┌─┴─┐┌─┴─┐┌─┴─┐ ░ ├───┤ ║  ║  ║ └╥┘\n",
       "tmp_0: |0>┤ X ├┤ H ├─░─┤ X ├┤ X ├┤ X ├─░─┤ H ├─╫──╫──╫──╫─\n",
       "          └───┘└───┘ ░ └───┘└───┘└───┘ ░ └───┘ ║  ║  ║  ║ \n",
       " res_0: 0 ═════════════════════════════════════╩══╬══╬══╬═\n",
       "                                                  ║  ║  ║ \n",
       " res_1: 0 ════════════════════════════════════════╩══╬══╬═\n",
       "                                                     ║  ║ \n",
       " res_2: 0 ═══════════════════════════════════════════╩══╬═\n",
       "                                                        ║ \n",
       " res_3: 0 ══════════════════════════════════════════════╩═\n",
       "                                                          </pre>"
      ],
      "text/plain": [
       "<qiskit.visualization.text.TextDrawing at 0x7fbfefa508d0>"
      ]
     },
     "execution_count": 81,
     "metadata": {},
     "output_type": "execute_result"
    }
   ],
   "source": [
    "bv.h(q) # full layer of hadamard\n",
    "bv.h(tmp) # hadamard on tmp qubit which is then discarded\n",
    "bv.measure(q, res) # measure the q qubits\n",
    "circuit_drawer(bv)"
   ]
  },
  {
   "cell_type": "code",
   "execution_count": 82,
   "metadata": {},
   "outputs": [
    {
     "data": {
      "image/png": "[encoded data removed]",
      "text/plain": [
       "<Figure size 504x360 with 1 Axes>"
      ]
     },
     "execution_count": 82,
     "metadata": {},
     "output_type": "execute_result"
    }
   ],
   "source": [
    "sim = Aer.get_backend('qasm_simulator')\n",
    "job = execute(bv, sim, shots=1000)\n",
    "count = job.result().get_counts()\n",
    "plot_histogram(count, legend=[str(secret)])"
   ]
  },
  {
   "cell_type": "code",
   "execution_count": 83,
   "metadata": {},
   "outputs": [],
   "source": [
    "from qiskit import IBMQ\n",
    "IBMQ.save_account('YOUR_API_TOKEN')"
   ]
  },
  {
   "cell_type": "code",
   "execution_count": 87,
   "metadata": {},
   "outputs": [
    {
     "data": {
      "text/plain": [
       "<AccountProvider for IBMQ(hub='ibm-q', group='open', project='main')>"
      ]
     },
     "execution_count": 87,
     "metadata": {},
     "output_type": "execute_result"
    }
   ],
   "source": [
    "IBMQ.load_account()"
   ]
  },
  {
   "cell_type": "code",
   "execution_count": 88,
   "metadata": {},
   "outputs": [
    {
     "data": {
      "text/plain": [
       "[<IBMQSimulator('ibmq_qasm_simulator') from IBMQ(hub='ibm-q', group='open', project='main')>,\n",
       " <IBMQBackend('ibmqx2') from IBMQ(hub='ibm-q', group='open', project='main')>,\n",
       " <IBMQBackend('ibmq_16_melbourne') from IBMQ(hub='ibm-q', group='open', project='main')>,\n",
       " <IBMQBackend('ibmq_vigo') from IBMQ(hub='ibm-q', group='open', project='main')>,\n",
       " <IBMQBackend('ibmq_ourense') from IBMQ(hub='ibm-q', group='open', project='main')>,\n",
       " <IBMQBackend('ibmq_london') from IBMQ(hub='ibm-q', group='open', project='main')>,\n",
       " <IBMQBackend('ibmq_burlington') from IBMQ(hub='ibm-q', group='open', project='main')>,\n",
       " <IBMQBackend('ibmq_essex') from IBMQ(hub='ibm-q', group='open', project='main')>]"
      ]
     },
     "execution_count": 88,
     "metadata": {},
     "output_type": "execute_result"
    }
   ],
   "source": [
    "provider = IBMQ.get_provider(hub='ibm-q')\n",
    "provider.backends()"
   ]
  },
  {
   "cell_type": "code",
   "execution_count": 89,
   "metadata": {},
   "outputs": [],
   "source": [
    "backend = provider.get_backend('ibmq_essex')"
   ]
  },
  {
   "cell_type": "code",
   "execution_count": 90,
   "metadata": {},
   "outputs": [],
   "source": [
    "job_cloud = execute(bv, backend, shots=1000)"
   ]
  },
  {
   "cell_type": "code",
   "execution_count": 91,
   "metadata": {},
   "outputs": [
    {
     "name": "stdout",
     "output_type": "stream",
     "text": [
      "{'0010': 65, '1100': 55, '1101': 39, '0000': 65, '1000': 23, '1111': 166, '1010': 50, '0011': 45, '0111': 41, '1001': 19, '0101': 25, '0100': 31, '1110': 238, '0110': 46, '1011': 34, '0001': 58}\n"
     ]
    }
   ],
   "source": [
    "count_cloud = job_cloud.result().get_counts()\n",
    "print(count_cloud)"
   ]
  },
  {
   "cell_type": "code",
   "execution_count": 92,
   "metadata": {},
   "outputs": [
    {
     "data": {
      "image/png": "[encoded data removed]",
      "text/plain": [
       "<Figure size 504x360 with 1 Axes>"
      ]
     },
     "execution_count": 92,
     "metadata": {},
     "output_type": "execute_result"
    }
   ],
   "source": [
    "plot_histogram(count_cloud, legend=['14, 1110, quantum computed'])"
   ]
  }
 ],
 "metadata": {
  "kernelspec": {
   "display_name": "Python 3",
   "language": "python",
   "name": "python3"
  },
  "language_info": {
   "codemirror_mode": {
    "name": "ipython",
    "version": 3
   },
   "file_extension": ".py",
   "mimetype": "text/x-python",
   "name": "python",
   "nbconvert_exporter": "python",
   "pygments_lexer": "ipython3",
   "version": "3.6.9"
  }
 },
 "nbformat": 4,
 "nbformat_minor": 2
}
